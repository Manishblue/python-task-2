{
 "cells": [
  {
   "cell_type": "code",
   "execution_count": 1,
   "id": "1c32c6f2-b03d-4a58-b04e-79cb14ced3ee",
   "metadata": {},
   "outputs": [],
   "source": [
    "# Q1. You are writing code for a company. The requirement of the company is that you create a python\n",
    "# function that will check whether the password entered by the user is correct or not. The function should\n",
    "# take the password as input and return the string “Valid Password” if the entered password follows the\n",
    "# below-given password guidelines else it should return “Invalid Password”.\n",
    "# Note: 1. The Password should contain at least two uppercase letters and at least two lowercase letters.\n",
    "# 2. The Password should contain at least a number and three special characters.\n",
    "# 3. The length of the password should be 10 characters long."
   ]
  },
  {
   "cell_type": "code",
   "execution_count": 4,
   "id": "a00323d9-1775-4878-99f8-56f145019074",
   "metadata": {},
   "outputs": [
    {
     "name": "stdin",
     "output_type": "stream",
     "text": [
      "Enter your password:  MAersk@7001#\n"
     ]
    },
    {
     "name": "stdout",
     "output_type": "stream",
     "text": [
      "Invalid Password: At least three special characters required.\n"
     ]
    }
   ],
   "source": [
    "import re\n",
    "\n",
    "def check_password(password):\n",
    "    # Check if the password has at least two uppercase letters\n",
    "    if len(re.findall(r'[A-Z]', password)) < 2:\n",
    "        return \"Invalid Password: At least two uppercase letters required.\"\n",
    "    \n",
    "    # Check if the password has at least two lowercase letters\n",
    "    if len(re.findall(r'[a-z]', password)) < 2:\n",
    "        return \"Invalid Password: At least two lowercase letters required.\"\n",
    "    \n",
    "    # Check if the password has at least one digit\n",
    "    if len(re.findall(r'\\d', password)) < 1:\n",
    "        return \"Invalid Password: At least one digit required.\"\n",
    "    \n",
    "    # Check if the password has at least three special characters\n",
    "    if len(re.findall(r'[!@#$%^&*(),.?\":{}|<>]', password)) < 3:\n",
    "        return \"Invalid Password: At least three special characters required.\"\n",
    "    \n",
    "    # Check if the password is exactly 10 characters long\n",
    "    if len(password) != 10:\n",
    "        return \"Invalid Password: Password length should be 10 characters.\"\n",
    "    \n",
    "    # If all conditions are met, the password is valid\n",
    "    return \"Valid Password\"\n",
    "\n",
    "# Example usage:\n",
    "password = input(\"Enter your password: \")\n",
    "result = check_password(password)\n",
    "print(result)"
   ]
  },
  {
   "cell_type": "code",
   "execution_count": 5,
   "id": "90dbce43-52dc-4244-a94c-13f4c626fd9f",
   "metadata": {},
   "outputs": [],
   "source": [
    "# Q2. Solve the below-given questions using at least one of the following:\n",
    "# 1. Lambda functioJ\n",
    "# 2. Filter functioJ\n",
    "# 3. Zap functioJ\n",
    "# 4. List ComprehensioI\n",
    "# B Check if the string starts with a particular letterY\n",
    "# B Check if the string is numericY\n",
    "# B Sort a list of tuples having fruit names and their quantity. [(\"mango\",99),(\"orange\",80), (\"grapes\", 1000)-\n",
    "# B Find the squares of numbers from 1 to 10Y\n",
    "# B Find the cube root of numbers from 1 to 10Y\n",
    "# B Check if a given number is evenY\n",
    "# B Filter odd numbers from the given list.\n",
    "# [1,2,3,4,5,6,7,8,9,10-\n",
    "# B Sort a list of integers into positive and negative integers lists.\n",
    "# [1,2,3,4,5,6,-1,-2,-3,-4,-5,0]"
   ]
  },
  {
   "cell_type": "code",
   "execution_count": 6,
   "id": "e00b58a7-76d6-470b-869e-4470f4996d65",
   "metadata": {},
   "outputs": [
    {
     "name": "stdout",
     "output_type": "stream",
     "text": [
      "True\n"
     ]
    }
   ],
   "source": [
    "check_starting_letter = lambda s, letter: s.startswith(letter)\n",
    "result = check_starting_letter(\"Python\", \"P\")\n",
    "print(result)  # Output: True\n"
   ]
  },
  {
   "cell_type": "code",
   "execution_count": 7,
   "id": "bcbd0240-855e-490f-a4bd-8da4f5403d69",
   "metadata": {},
   "outputs": [
    {
     "name": "stdout",
     "output_type": "stream",
     "text": [
      "True\n"
     ]
    }
   ],
   "source": [
    "check_numeric = lambda s: s.isnumeric()\n",
    "result = check_numeric(\"123\")\n",
    "print(result)  # Output: True\n"
   ]
  },
  {
   "cell_type": "code",
   "execution_count": 8,
   "id": "26930c90-d244-4f7a-865f-3eaac7b45608",
   "metadata": {},
   "outputs": [
    {
     "name": "stdout",
     "output_type": "stream",
     "text": [
      "[('orange', 80), ('mango', 99), ('grapes', 1000)]\n"
     ]
    }
   ],
   "source": [
    "fruits_quantity = [(\"mango\", 99), (\"orange\", 80), (\"grapes\", 1000)]\n",
    "sorted_fruits = sorted(fruits_quantity, key=lambda x: x[1])\n",
    "print(sorted_fruits)\n",
    "# Output: [('orange', 80), ('mango', 99), ('grapes', 1000)]"
   ]
  },
  {
   "cell_type": "code",
   "execution_count": 9,
   "id": "8940506e-6736-4f72-9ddc-5e5c6a64b282",
   "metadata": {},
   "outputs": [
    {
     "name": "stdout",
     "output_type": "stream",
     "text": [
      "[1, 4, 9, 16, 25, 36, 49, 64, 81, 100]\n"
     ]
    }
   ],
   "source": [
    "squares = [x**2 for x in range(1, 11)]\n",
    "print(squares)\n",
    "# Output: [1, 4, 9, 16, 25, 36, 49, 64, 81, 100]"
   ]
  },
  {
   "cell_type": "code",
   "execution_count": 10,
   "id": "35aa2bc1-d48f-4230-973b-379c1ad4cd13",
   "metadata": {},
   "outputs": [
    {
     "name": "stdout",
     "output_type": "stream",
     "text": [
      "[1.0, 1.26, 1.44, 1.59, 1.71, 1.82, 1.91, 2.0, 2.08, 2.15]\n"
     ]
    }
   ],
   "source": [
    "import math\n",
    "cube_roots = [round(math.pow(x, 1/3), 2) for x in range(1, 11)]\n",
    "print(cube_roots)\n",
    "# Output: [1.0, 1.26, 1.44, 1.59, 1.71, 1.82, 1.91, 2.0, 2.08, 2.16]"
   ]
  },
  {
   "cell_type": "code",
   "execution_count": 11,
   "id": "c76d02e3-736b-4a72-9fc7-c5aa612a5b76",
   "metadata": {},
   "outputs": [
    {
     "name": "stdout",
     "output_type": "stream",
     "text": [
      "True\n"
     ]
    }
   ],
   "source": [
    "check_even = lambda num: num % 2 == 0\n",
    "result = check_even(4)\n",
    "print(result)  # Output: True"
   ]
  },
  {
   "cell_type": "code",
   "execution_count": 12,
   "id": "fd44f0fc-2450-42d7-95ae-9c0ed60d7539",
   "metadata": {},
   "outputs": [
    {
     "name": "stdout",
     "output_type": "stream",
     "text": [
      "[1, 3, 5, 7, 9]\n"
     ]
    }
   ],
   "source": [
    "numbers = [1, 2, 3, 4, 5, 6, 7, 8, 9, 10]\n",
    "odd_numbers = list(filter(lambda x: x % 2 != 0, numbers))\n",
    "print(odd_numbers)\n",
    "# Output: [1, 3, 5, 7, 9]"
   ]
  },
  {
   "cell_type": "code",
   "execution_count": 13,
   "id": "c212dc6e-cb68-4fd3-b17e-b5ef664d2008",
   "metadata": {},
   "outputs": [
    {
     "name": "stdout",
     "output_type": "stream",
     "text": [
      "Positive Numbers: [1, 2, 3, 4, 5, 6]\n",
      "Negative Numbers: [-1, -2, -3, -4, -5]\n"
     ]
    }
   ],
   "source": [
    "integer_list = [1, 2, 3, 4, 5, 6, -1, -2, -3, -4, -5, 0]\n",
    "positive_numbers = list(filter(lambda x: x > 0, integer_list))\n",
    "negative_numbers = list(filter(lambda x: x < 0, integer_list))\n",
    "print(\"Positive Numbers:\", positive_numbers)\n",
    "print(\"Negative Numbers:\", negative_numbers)\n",
    "# Output: Positive Numbers: [1, 2, 3, 4, 5, 6]\n",
    "#         Negative Numbers: [-1, -2, -3, -4, -5]"
   ]
  },
  {
   "cell_type": "code",
   "execution_count": null,
   "id": "421d5e2b-840a-4bf8-bd37-26ae8028767b",
   "metadata": {},
   "outputs": [],
   "source": []
  }
 ],
 "metadata": {
  "kernelspec": {
   "display_name": "Python 3 (ipykernel)",
   "language": "python",
   "name": "python3"
  },
  "language_info": {
   "codemirror_mode": {
    "name": "ipython",
    "version": 3
   },
   "file_extension": ".py",
   "mimetype": "text/x-python",
   "name": "python",
   "nbconvert_exporter": "python",
   "pygments_lexer": "ipython3",
   "version": "3.10.8"
  }
 },
 "nbformat": 4,
 "nbformat_minor": 5
}
